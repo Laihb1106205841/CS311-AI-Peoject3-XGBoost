{
 "cells": [
  {
   "cell_type": "code",
   "execution_count": null,
   "id": "initial_id",
   "metadata": {
    "collapsed": true
   },
   "outputs": [],
   "source": [
    "\n",
    "\n",
    "# from xgboost import XGBClassifier\n",
    "# \n",
    "# xgb = XGBClassifier()\n",
    "# xgb.fit(x_train, y_train)\n",
    "# y_pred = xgb.predict(x_test)\n",
    "# print('**** ACCURACY_SCORE **** \\n\\n', accuracy_score(y_test, y_pred), '\\n')\n",
    "# print('**** CLASSIFICATION_REPORT **** \\n\\n', classification_report(y_test, y_pred), '\\n')\n",
    "# print('**** CONFUSION MATRIX ****')\n",
    "# sns.heatmap(confusion_matrix(y_test, y_pred), annot=True, fmt='d')"
   ]
  }
 ],
 "metadata": {
  "kernelspec": {
   "display_name": "Python 3",
   "language": "python",
   "name": "python3"
  },
  "language_info": {
   "codemirror_mode": {
    "name": "ipython",
    "version": 2
   },
   "file_extension": ".py",
   "mimetype": "text/x-python",
   "name": "python",
   "nbconvert_exporter": "python",
   "pygments_lexer": "ipython2",
   "version": "2.7.6"
  }
 },
 "nbformat": 4,
 "nbformat_minor": 5
}
