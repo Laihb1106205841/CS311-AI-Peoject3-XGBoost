{
 "cells": [
  {
   "cell_type": "markdown",
   "source": [
    "## Predicting Adult Census Income Using XGBoost Gradient Boosted Trees System\n",
    "\n",
    "### Haibin Lai 12211612\n",
    "\n",
    "XGBoost stands for “Extreme Gradient Boosting”, where the term “Gradient Boosting” originates from the paper Greedy Function Approximation: A Gradient Boosting Machine, by Friedman.\n",
    "\n",
    "The gradient boosted trees has been around for a while, and there are a lot of materials on the topic. Boosted trees in a self-contained and principled way use the elements of supervised learning. We think this explanation is cleaner, more formal, and motivates the model formulation used in XGBoost.\n",
    "\n",
    "### Running Preparation\n",
    "**Needed Python Version:**\n",
    " > \\>=3.09 \n",
    " My computer runs well in 3.11\n",
    "\n",
    "**Needed Package:**\n",
    "\n",
    "| Library    | Version | Notes                    |\n",
    "|------------|---------|--------------------------|\n",
    "| pandas     | 2.2.1   | Recommended              |\n",
    "| seaborn    | 0.12.2  | Recommended              |\n",
    "| sklearn    | 1.4.0   | Recommended (1.5.0 tested OK) |\n",
    "| xgboost    | 2.0.3   | Recommended              |\n",
    "\n",
    "### Using xgboost:\n",
    "XGBoost: eXtreme Gradient Boosting library.\n",
    "Contributors: https://github.com/dmlc/xgboost/blob/master/CONTRIBUTORS.md \n",
    "\n",
    "**Installing**\n",
    "\n",
    "Pip 21.3+ is required\n",
    "\n",
    "```commandline\n",
    "pip install xgboost\n",
    "```\n",
    "\n",
    "![XGBoost](Img/XGBoost.png \"AWS\")\n"
   ],
   "metadata": {
    "collapsed": false
   },
   "id": "c7f9dae1e17045bc"
  },
  {
   "cell_type": "code",
   "outputs": [],
   "source": [
    "import pandas as pd\n",
    "import seaborn as sns\n",
    "from sklearn.preprocessing import LabelEncoder, StandardScaler\n",
    "from sklearn.model_selection import train_test_split\n",
    "from sklearn.metrics import accuracy_score, classification_report, confusion_matrix\n",
    "from xgboost import XGBClassifier"
   ],
   "metadata": {
    "collapsed": false,
    "ExecuteTime": {
     "end_time": "2024-06-08T20:29:25.516838600Z",
     "start_time": "2024-06-08T20:29:25.436326300Z"
    }
   },
   "id": "e87026dda4b387b",
   "execution_count": 1004
  },
  {
   "cell_type": "markdown",
   "source": [
    "## Data Preprocessing:\n",
    "### 1. Preprocessing of loading and data reformatting\n",
    "XGBoost will automatically train the input data as a whole csv just like excel. To meet its requirement, we need to add trainlabel.csv's col into traindata.csv"
   ],
   "metadata": {
    "collapsed": false
   },
   "id": "8720d609125c51b1"
  },
  {
   "cell_type": "code",
   "outputs": [
    {
     "name": "stdout",
     "output_type": "stream",
     "text": [
      "trainlabel.txt 已成功转换为 trainlabel.csv\n"
     ]
    }
   ],
   "source": [
    "# 读取 traindata.csv 文件\n",
    "train_df = pd.read_csv(\"data/traindata.csv\")\n",
    "\n",
    "# 读取trainlabel.txt文件\n",
    "with open('data/trainlabel.txt', 'r') as file:\n",
    "    lines = file.readlines()\n",
    "\n",
    "# 解析文本数据并创建DataFrame\n",
    "data = {'Label': [line.strip() for line in lines]}\n",
    "df = pd.DataFrame(data)\n",
    "\n",
    "# 将DataFrame保存为CSV文件\n",
    "df.to_csv('data/trainlabel.csv', index=False)\n",
    "\n",
    "print(\"trainlabel.txt 已成功转换为 trainlabel.csv\")"
   ],
   "metadata": {
    "collapsed": false,
    "ExecuteTime": {
     "end_time": "2024-06-08T20:29:25.627564900Z",
     "start_time": "2024-06-08T20:29:25.526841200Z"
    }
   },
   "id": "4261ceab9d14ff86",
   "execution_count": 1005
  },
  {
   "cell_type": "code",
   "outputs": [],
   "source": [
    "# 读取 trainlabel.csv 文件，假设数据列名为 'income'\n",
    "data_df = pd.read_csv(\"data/trainlabel.csv\")\n",
    "\n",
    "# 将 'income' 数据列添加到 train_df 中\n",
    "train_df['Income'] = data_df\n",
    "\n",
    "# 将修改后的 train_df 保存为新的 CSV 文件\n",
    "train_df.to_csv(\"data/traindata_preprocessed.csv\", index=False)"
   ],
   "metadata": {
    "collapsed": false,
    "ExecuteTime": {
     "end_time": "2024-06-08T20:29:25.691992500Z",
     "start_time": "2024-06-08T20:29:25.576565900Z"
    }
   },
   "id": "c5f06d033b5e0f03",
   "execution_count": 1006
  },
  {
   "cell_type": "code",
   "outputs": [
    {
     "data": {
      "text/plain": "   age         workclass  fnlwgt     education  education.num  \\\n0   77         Local-gov  177550     Bachelors             13   \n1   40      Self-emp-inc  475322     Bachelors             13   \n2   29  Self-emp-not-inc  341672       HS-grad              9   \n3   41           Private  184378       HS-grad              9   \n4   22           Private  306967  Some-college             10   \n\n          marital.status        occupation    relationship  \\\n0     Married-civ-spouse      Adm-clerical         Husband   \n1              Separated      Craft-repair       Own-child   \n2  Married-spouse-absent  Transport-moving  Other-relative   \n3              Separated      Craft-repair   Not-in-family   \n4          Never-married      Adm-clerical   Not-in-family   \n\n                 race     sex  capital.gain  capital.loss  hours.per.week  \\\n0               White    Male          3818             0              14   \n1               White    Male             0             0              50   \n2  Asian-Pac-Islander    Male             0          1564              50   \n3               White    Male             0             0              40   \n4               White  Female             0             0              25   \n\n  native.country  Income  \n0  United-States       0  \n1  United-States       0  \n2          India       1  \n3  United-States       0  \n4  United-States       0  ",
      "text/html": "<div>\n<style scoped>\n    .dataframe tbody tr th:only-of-type {\n        vertical-align: middle;\n    }\n\n    .dataframe tbody tr th {\n        vertical-align: top;\n    }\n\n    .dataframe thead th {\n        text-align: right;\n    }\n</style>\n<table border=\"1\" class=\"dataframe\">\n  <thead>\n    <tr style=\"text-align: right;\">\n      <th></th>\n      <th>age</th>\n      <th>workclass</th>\n      <th>fnlwgt</th>\n      <th>education</th>\n      <th>education.num</th>\n      <th>marital.status</th>\n      <th>occupation</th>\n      <th>relationship</th>\n      <th>race</th>\n      <th>sex</th>\n      <th>capital.gain</th>\n      <th>capital.loss</th>\n      <th>hours.per.week</th>\n      <th>native.country</th>\n      <th>Income</th>\n    </tr>\n  </thead>\n  <tbody>\n    <tr>\n      <th>0</th>\n      <td>77</td>\n      <td>Local-gov</td>\n      <td>177550</td>\n      <td>Bachelors</td>\n      <td>13</td>\n      <td>Married-civ-spouse</td>\n      <td>Adm-clerical</td>\n      <td>Husband</td>\n      <td>White</td>\n      <td>Male</td>\n      <td>3818</td>\n      <td>0</td>\n      <td>14</td>\n      <td>United-States</td>\n      <td>0</td>\n    </tr>\n    <tr>\n      <th>1</th>\n      <td>40</td>\n      <td>Self-emp-inc</td>\n      <td>475322</td>\n      <td>Bachelors</td>\n      <td>13</td>\n      <td>Separated</td>\n      <td>Craft-repair</td>\n      <td>Own-child</td>\n      <td>White</td>\n      <td>Male</td>\n      <td>0</td>\n      <td>0</td>\n      <td>50</td>\n      <td>United-States</td>\n      <td>0</td>\n    </tr>\n    <tr>\n      <th>2</th>\n      <td>29</td>\n      <td>Self-emp-not-inc</td>\n      <td>341672</td>\n      <td>HS-grad</td>\n      <td>9</td>\n      <td>Married-spouse-absent</td>\n      <td>Transport-moving</td>\n      <td>Other-relative</td>\n      <td>Asian-Pac-Islander</td>\n      <td>Male</td>\n      <td>0</td>\n      <td>1564</td>\n      <td>50</td>\n      <td>India</td>\n      <td>1</td>\n    </tr>\n    <tr>\n      <th>3</th>\n      <td>41</td>\n      <td>Private</td>\n      <td>184378</td>\n      <td>HS-grad</td>\n      <td>9</td>\n      <td>Separated</td>\n      <td>Craft-repair</td>\n      <td>Not-in-family</td>\n      <td>White</td>\n      <td>Male</td>\n      <td>0</td>\n      <td>0</td>\n      <td>40</td>\n      <td>United-States</td>\n      <td>0</td>\n    </tr>\n    <tr>\n      <th>4</th>\n      <td>22</td>\n      <td>Private</td>\n      <td>306967</td>\n      <td>Some-college</td>\n      <td>10</td>\n      <td>Never-married</td>\n      <td>Adm-clerical</td>\n      <td>Not-in-family</td>\n      <td>White</td>\n      <td>Female</td>\n      <td>0</td>\n      <td>0</td>\n      <td>25</td>\n      <td>United-States</td>\n      <td>0</td>\n    </tr>\n  </tbody>\n</table>\n</div>"
     },
     "execution_count": 1007,
     "metadata": {},
     "output_type": "execute_result"
    }
   ],
   "source": [
    "df = pd.read_csv('data/traindata_preprocessed.csv')\n",
    "df.head()"
   ],
   "metadata": {
    "collapsed": false,
    "ExecuteTime": {
     "end_time": "2024-06-08T20:29:25.753244100Z",
     "start_time": "2024-06-08T20:29:25.674994200Z"
    }
   },
   "id": "b1317ee7c21c703e",
   "execution_count": 1007
  },
  {
   "cell_type": "markdown",
   "source": [
    "### 2. Preprocessing of duplicating the same row\n",
    "\n",
    "def duplicated(self,subset: Hashable | Sequence\\[Hashable] | None = None, keep: Literal\\[\"first\", \"last\", False] = \"first\")\n",
    "  \n",
    "-> Series\n",
    "        Return boolean Series denoting duplicate rows.\n",
    "        Considering certain columns is optional.\n",
    "See Also\n",
    "* Index.duplicated: Equivalent method on index.\n",
    "* Series.duplicated: Equivalent method on Series.\n",
    "* Series.drop_duplicates: Remove duplicate values from Series.\n",
    "* DataFrame.drop_duplicates: Remove duplicate values from DataFrame."
   ],
   "metadata": {
    "collapsed": false
   },
   "id": "503051a44534945d"
  },
  {
   "cell_type": "code",
   "outputs": [
    {
     "data": {
      "text/plain": "       age workclass  fnlwgt     education  education.num      marital.status  \\\n5721    44   Private  367749     Bachelors             13       Never-married   \n9853    25   Private  195994       1st-4th              2       Never-married   \n15108   20   Private  107658  Some-college             10       Never-married   \n16958   42   Private  204235  Some-college             10  Married-civ-spouse   \n18372   25   Private  308144     Bachelors             13       Never-married   \n18382   23   Private  240137       5th-6th              3       Never-married   \n19488   46   Private  173243       HS-grad              9  Married-civ-spouse   \n19733   39   Private   30916       HS-grad              9  Married-civ-spouse   \n20026   27   Private  255582       HS-grad              9       Never-married   \n20405   21   Private  243368     Preschool              1       Never-married   \n\n              occupation   relationship   race     sex  capital.gain  \\\n5721      Prof-specialty  Not-in-family  White  Female             0   \n9853     Priv-house-serv  Not-in-family  White  Female             0   \n15108       Tech-support  Not-in-family  White  Female             0   \n16958     Prof-specialty        Husband  White    Male             0   \n18372       Craft-repair  Not-in-family  White    Male             0   \n18382  Handlers-cleaners  Not-in-family  White    Male             0   \n19488       Craft-repair        Husband  White    Male             0   \n19733       Craft-repair        Husband  White    Male             0   \n20026  Machine-op-inspct  Not-in-family  White  Female             0   \n20405    Farming-fishing  Not-in-family  White    Male             0   \n\n       capital.loss  hours.per.week native.country  Income  \n5721              0              45         Mexico       0  \n9853              0              40      Guatemala       0  \n15108             0              10  United-States       0  \n16958             0              40  United-States       1  \n18372             0              40         Mexico       0  \n18382             0              55         Mexico       0  \n19488             0              40  United-States       0  \n19733             0              40  United-States       0  \n20026             0              40  United-States       0  \n20405             0              50         Mexico       0  ",
      "text/html": "<div>\n<style scoped>\n    .dataframe tbody tr th:only-of-type {\n        vertical-align: middle;\n    }\n\n    .dataframe tbody tr th {\n        vertical-align: top;\n    }\n\n    .dataframe thead th {\n        text-align: right;\n    }\n</style>\n<table border=\"1\" class=\"dataframe\">\n  <thead>\n    <tr style=\"text-align: right;\">\n      <th></th>\n      <th>age</th>\n      <th>workclass</th>\n      <th>fnlwgt</th>\n      <th>education</th>\n      <th>education.num</th>\n      <th>marital.status</th>\n      <th>occupation</th>\n      <th>relationship</th>\n      <th>race</th>\n      <th>sex</th>\n      <th>capital.gain</th>\n      <th>capital.loss</th>\n      <th>hours.per.week</th>\n      <th>native.country</th>\n      <th>Income</th>\n    </tr>\n  </thead>\n  <tbody>\n    <tr>\n      <th>5721</th>\n      <td>44</td>\n      <td>Private</td>\n      <td>367749</td>\n      <td>Bachelors</td>\n      <td>13</td>\n      <td>Never-married</td>\n      <td>Prof-specialty</td>\n      <td>Not-in-family</td>\n      <td>White</td>\n      <td>Female</td>\n      <td>0</td>\n      <td>0</td>\n      <td>45</td>\n      <td>Mexico</td>\n      <td>0</td>\n    </tr>\n    <tr>\n      <th>9853</th>\n      <td>25</td>\n      <td>Private</td>\n      <td>195994</td>\n      <td>1st-4th</td>\n      <td>2</td>\n      <td>Never-married</td>\n      <td>Priv-house-serv</td>\n      <td>Not-in-family</td>\n      <td>White</td>\n      <td>Female</td>\n      <td>0</td>\n      <td>0</td>\n      <td>40</td>\n      <td>Guatemala</td>\n      <td>0</td>\n    </tr>\n    <tr>\n      <th>15108</th>\n      <td>20</td>\n      <td>Private</td>\n      <td>107658</td>\n      <td>Some-college</td>\n      <td>10</td>\n      <td>Never-married</td>\n      <td>Tech-support</td>\n      <td>Not-in-family</td>\n      <td>White</td>\n      <td>Female</td>\n      <td>0</td>\n      <td>0</td>\n      <td>10</td>\n      <td>United-States</td>\n      <td>0</td>\n    </tr>\n    <tr>\n      <th>16958</th>\n      <td>42</td>\n      <td>Private</td>\n      <td>204235</td>\n      <td>Some-college</td>\n      <td>10</td>\n      <td>Married-civ-spouse</td>\n      <td>Prof-specialty</td>\n      <td>Husband</td>\n      <td>White</td>\n      <td>Male</td>\n      <td>0</td>\n      <td>0</td>\n      <td>40</td>\n      <td>United-States</td>\n      <td>1</td>\n    </tr>\n    <tr>\n      <th>18372</th>\n      <td>25</td>\n      <td>Private</td>\n      <td>308144</td>\n      <td>Bachelors</td>\n      <td>13</td>\n      <td>Never-married</td>\n      <td>Craft-repair</td>\n      <td>Not-in-family</td>\n      <td>White</td>\n      <td>Male</td>\n      <td>0</td>\n      <td>0</td>\n      <td>40</td>\n      <td>Mexico</td>\n      <td>0</td>\n    </tr>\n    <tr>\n      <th>18382</th>\n      <td>23</td>\n      <td>Private</td>\n      <td>240137</td>\n      <td>5th-6th</td>\n      <td>3</td>\n      <td>Never-married</td>\n      <td>Handlers-cleaners</td>\n      <td>Not-in-family</td>\n      <td>White</td>\n      <td>Male</td>\n      <td>0</td>\n      <td>0</td>\n      <td>55</td>\n      <td>Mexico</td>\n      <td>0</td>\n    </tr>\n    <tr>\n      <th>19488</th>\n      <td>46</td>\n      <td>Private</td>\n      <td>173243</td>\n      <td>HS-grad</td>\n      <td>9</td>\n      <td>Married-civ-spouse</td>\n      <td>Craft-repair</td>\n      <td>Husband</td>\n      <td>White</td>\n      <td>Male</td>\n      <td>0</td>\n      <td>0</td>\n      <td>40</td>\n      <td>United-States</td>\n      <td>0</td>\n    </tr>\n    <tr>\n      <th>19733</th>\n      <td>39</td>\n      <td>Private</td>\n      <td>30916</td>\n      <td>HS-grad</td>\n      <td>9</td>\n      <td>Married-civ-spouse</td>\n      <td>Craft-repair</td>\n      <td>Husband</td>\n      <td>White</td>\n      <td>Male</td>\n      <td>0</td>\n      <td>0</td>\n      <td>40</td>\n      <td>United-States</td>\n      <td>0</td>\n    </tr>\n    <tr>\n      <th>20026</th>\n      <td>27</td>\n      <td>Private</td>\n      <td>255582</td>\n      <td>HS-grad</td>\n      <td>9</td>\n      <td>Never-married</td>\n      <td>Machine-op-inspct</td>\n      <td>Not-in-family</td>\n      <td>White</td>\n      <td>Female</td>\n      <td>0</td>\n      <td>0</td>\n      <td>40</td>\n      <td>United-States</td>\n      <td>0</td>\n    </tr>\n    <tr>\n      <th>20405</th>\n      <td>21</td>\n      <td>Private</td>\n      <td>243368</td>\n      <td>Preschool</td>\n      <td>1</td>\n      <td>Never-married</td>\n      <td>Farming-fishing</td>\n      <td>Not-in-family</td>\n      <td>White</td>\n      <td>Male</td>\n      <td>0</td>\n      <td>0</td>\n      <td>50</td>\n      <td>Mexico</td>\n      <td>0</td>\n    </tr>\n  </tbody>\n</table>\n</div>"
     },
     "execution_count": 1008,
     "metadata": {},
     "output_type": "execute_result"
    }
   ],
   "source": [
    "df.loc[df.duplicated() == True]"
   ],
   "metadata": {
    "collapsed": false,
    "ExecuteTime": {
     "end_time": "2024-06-08T20:29:25.814774900Z",
     "start_time": "2024-06-08T20:29:25.725588300Z"
    }
   },
   "id": "2a5d50e221f3d888",
   "execution_count": 1008
  },
  {
   "cell_type": "markdown",
   "source": [
    "### 3. Preprocessing of transforming data and its recognition:\n",
    "\n",
    "1. **Initialization**: \n",
    "\n",
    "\n",
    "   label_encoder = LabelEncoder()\n",
    "   - Initializes a `LabelEncoder` object, which is a utility class for converting categorical labels into numerical values. It assigns a unique integer to each category in the data.\n",
    "\n",
    "2. **Defining Categorical Columns**: \n",
    "\n",
    "\n",
    "   categorical_columns = ['Income', 'workclass', 'education', 'marital.status', 'occupation', 'relationship', 'race', 'sex', 'native.country']\n",
    "   - Defines a list of column names in the DataFrame `df` that contain categorical data.\n",
    "\n",
    "3. **Encoding Categorical Data**: \n",
    "\n",
    "\n",
    "   df[categoricalcolumns] = df[categoricalcolumns].apply(labelencoder.fittransform)\n",
    "   - Applies the `fit_transform` method of the `LabelEncoder` object to each column specified in `categorical_columns`.\n",
    "   - Fits the encoder to the unique categories in each column (`fit`), and then transforms the categorical labels into numerical values (`transform`).\n",
    "   - Assigns these transformed values back to the respective columns in the DataFrame `df`.\n",
    "\n",
    "Essentially, this code converts the categorical variables in the specified columns of the DataFrame into numerical representations, which can be used as input for machine learning models of XGBoost. This preprocessing step is necessary because many machine learning algorithms require numerical input data.\n",
    "\n",
    "This Markdown format provides a structured explanation of the code snippet, making it easier to understand each step and its purpose."
   ],
   "metadata": {
    "collapsed": false
   },
   "id": "db2afa676665a119"
  },
  {
   "cell_type": "code",
   "outputs": [],
   "source": [
    "label_encoder = LabelEncoder()\n",
    "categorical_columns = ['age','workclass','fnlwgt', 'education','education.num' ,'marital.status', 'occupation', 'relationship', 'race', 'sex','hours.per.week', 'native.country']\n",
    "\n",
    "# 针对每一列进行标签编码\n",
    "for column in categorical_columns:\n",
    "    df[column] = label_encoder.fit_transform(df[column])\n",
    "    "
   ],
   "metadata": {
    "collapsed": false,
    "ExecuteTime": {
     "end_time": "2024-06-08T20:29:26.005556800Z",
     "start_time": "2024-06-08T20:29:25.754244300Z"
    }
   },
   "id": "7801e1a6b109f3e0",
   "execution_count": 1009
  },
  {
   "cell_type": "markdown",
   "source": [
    "\n",
    "### Data Splitting:\n",
    "\n",
    "xtrain, xtest, ytrain, ytest = traintestsplit(df.drop(columns=['Income']), df['Income'], testsize=0.12, randomstate=38)\n",
    "- **Splitting Data**: \n",
    "  - The `train_test_split` function from `sklearn.model_selection` is used to split the DataFrame `df` into training and testing sets.\n",
    "  - `df.drop(columns=['Income'])` drops the 'Income' column from the DataFrame `df` to create the feature set (`x_train` and `x_test`).\n",
    "  - `df['Income']` selects the 'Income' column as the target variable (`y_train` and `y_test`).\n",
    "  - `test_size=0.12` specifies that 12% of the data will be used for testing, while the remaining 88% will be used for training.\n",
    "  - `random_state=38` sets the random seed for reproducibility.\n",
    "\n"
   ],
   "metadata": {
    "collapsed": false
   },
   "id": "5e7339af3cb70470"
  },
  {
   "cell_type": "code",
   "outputs": [],
   "source": [
    "x_train, x_test, y_train, y_test = train_test_split(df.drop(columns=['Income']), df['Income'], test_size=0.13, random_state=39)"
   ],
   "metadata": {
    "collapsed": false,
    "ExecuteTime": {
     "end_time": "2024-06-08T20:29:26.006557600Z",
     "start_time": "2024-06-08T20:29:25.801764700Z"
    }
   },
   "id": "61b5aec04dd8a2b7",
   "execution_count": 1010
  },
  {
   "cell_type": "markdown",
   "source": [
    "### Feature Scaling:\n",
    "\n",
    "\n",
    "scaler = StandardScaler()\n",
    "xtrain = scaler.fittransform(xtrain)\n",
    "xtest = scaler.transform(x_test)\n",
    "- **Standardization (Feature Scaling)**: \n",
    "  - A `StandardScaler` object is initialized, which is used to standardize features by removing the mean and scaling to unit variance.\n",
    "  - `scaler.fit_transform(x_train)` fits the scaler to the training data (`x_train`) and then transforms it.\n",
    "  - `scaler.transform(x_test)` applies the same transformation to the testing data (`x_test`) using the parameters learned from the training data.\n",
    "\n",
    "These steps ensure that the data is appropriately split into training and testing sets, and the features are scaled for better performance of machine learning models.\n",
    "\n",
    "This Markdown explanation breaks down the code into two parts: data splitting and feature scaling, explaining each step in detail."
   ],
   "metadata": {
    "collapsed": false
   },
   "id": "21683204718c09e8"
  },
  {
   "cell_type": "code",
   "outputs": [],
   "source": [
    "scaler = StandardScaler()\n",
    "x_train = scaler.fit_transform(x_train)\n",
    "x_test = scaler.transform(x_test)"
   ],
   "metadata": {
    "collapsed": false,
    "ExecuteTime": {
     "end_time": "2024-06-08T20:29:26.068555900Z",
     "start_time": "2024-06-08T20:29:25.813773600Z"
    }
   },
   "id": "af09abfca93d7fd1",
   "execution_count": 1011
  },
  {
   "cell_type": "markdown",
   "source": [
    " **Instantiating XGBClassifier**\n",
    " -----------------\n",
    "xgb = XGBClassifier()\n",
    "\n",
    "We create an instance of the XGBoost classifier model called xgb.\n",
    "\n",
    "\n",
    "**Training the model with training data**\n",
    " -----------------\n",
    "xgb.fit(x_train, y_train)\n",
    "\n",
    "We train the XGBoost classifier model (xgb) using the training data (x_train and y_train) using the fit method.\n",
    "\n",
    "\n",
    "**Predicting the labels for test data**\n",
    " -----------------\n",
    "y_pred = xgb.predict(x_test)\n",
    "\n",
    "We use the trained model to predict labels for the test data (x_test) using the predict method. The predicted labels are stored in the variable y_pred.\n",
    "\n"
   ],
   "metadata": {
    "collapsed": false
   },
   "id": "9c723fda5235a91a"
  },
  {
   "cell_type": "code",
   "outputs": [],
   "source": [
    "xgb = XGBClassifier()\n",
    "xgb.fit(x_train, y_train)\n",
    "y_pred = xgb.predict(x_test)"
   ],
   "metadata": {
    "collapsed": false,
    "ExecuteTime": {
     "end_time": "2024-06-08T20:29:26.241179800Z",
     "start_time": "2024-06-08T20:29:25.835557600Z"
    }
   },
   "id": "c0d955a03b00a646",
   "execution_count": 1012
  },
  {
   "cell_type": "markdown",
   "source": [
    "\n",
    "**Printing the accuracy score**\n",
    "--------------------------------------------------------\n",
    "print('---- ACCURACY_SCORE ---- \\n\\n', accuracy_score(y_test, y_pred), '\\n')\n",
    "\n",
    "We calculate and print the accuracy score of the model on the test data using the accuracy_score function from sklearn.metrics.\n",
    "\n",
    "\n",
    "**Printing the classification report**\n",
    "--------------------------------------------------------\n",
    "print('---- CLASSIFICATION_REPORT ---- \\n\\n', classification_report(y_test, y_pred))\n",
    "\n",
    "We print the classification report, which includes precision, recall, F1-score, and support for each class, using the classification_report function from sklearn.metrics. This report provides a comprehensive summary of the model's performance on the test data.\n",
    "\n",
    "--------------------------------------------------------\n",
    "This code snippet demonstrates the typical workflow of training a machine learning model, making predictions, and evaluating its performance using accuracy score and classification report metrics."
   ],
   "metadata": {
    "collapsed": false
   },
   "id": "6a8dd0269000362"
  },
  {
   "cell_type": "code",
   "outputs": [
    {
     "name": "stdout",
     "output_type": "stream",
     "text": [
      "---- ACCURACY_SCORE ---- \n",
      "\n",
      " 0.865676679041512 \n",
      "\n",
      "---- CLASSIFICATION_REPORT ---- \n",
      "\n",
      "               precision    recall  f1-score   support\n",
      "\n",
      "           0       0.90      0.93      0.91      2238\n",
      "           1       0.76      0.66      0.71       725\n",
      "\n",
      "    accuracy                           0.87      2963\n",
      "   macro avg       0.83      0.80      0.81      2963\n",
      "weighted avg       0.86      0.87      0.86      2963\n"
     ]
    }
   ],
   "source": [
    "print('---- ACCURACY_SCORE ---- \\n\\n', accuracy_score(y_test, y_pred), '\\n')\n",
    "print('---- CLASSIFICATION_REPORT ---- \\n\\n', classification_report(y_test, y_pred))"
   ],
   "metadata": {
    "collapsed": false,
    "ExecuteTime": {
     "end_time": "2024-06-08T20:29:26.245181600Z",
     "start_time": "2024-06-08T20:29:26.137790400Z"
    }
   },
   "id": "209fbbfa9d3ffad1",
   "execution_count": 1013
  },
  {
   "cell_type": "markdown",
   "source": [
    "## Confusion Matrix\n",
    "The confusion matrix is a commonly used tool to evaluate the performance of a classification model, especially in multi-class classification problems. It illustrates the relationship between the model's predictions on the test set and the true labels.\n",
    "\n",
    "![Confusion Matrix](DataVisulization/Confusion.png \"AWS\")\n",
    "\n",
    "The primary purpose of the confusion matrix is to provide an intuitive understanding of the classification model's performance, particularly in terms of misclassifications between different classes. From the confusion matrix, we can comprehensively evaluate the model's performance."
   ],
   "metadata": {
    "collapsed": false
   },
   "id": "1388dca81410aaaa"
  },
  {
   "cell_type": "code",
   "outputs": [
    {
     "data": {
      "text/plain": "<Axes: >"
     },
     "execution_count": 1014,
     "metadata": {},
     "output_type": "execute_result"
    },
    {
     "data": {
      "text/plain": "<Figure size 640x480 with 3 Axes>",
      "image/png": "[encoded data removed]"
     },
     "metadata": {},
     "output_type": "display_data"
    }
   ],
   "source": [
    "sns.heatmap(confusion_matrix(y_test, y_pred), annot=True, fmt='d')\n",
    "sns.heatmap(confusion_matrix(y_test, y_pred), annot=True, fmt='d')"
   ],
   "metadata": {
    "collapsed": false,
    "ExecuteTime": {
     "end_time": "2024-06-08T20:29:26.410532200Z",
     "start_time": "2024-06-08T20:29:26.156179600Z"
    }
   },
   "id": "83c06f6af3c5eb13",
   "execution_count": 1014
  },
  {
   "cell_type": "markdown",
   "source": [
    "## Data Explanation\n",
    "\n",
    "1. The number 1974 in the top-left corner represents the count of true negatives (TN), indicating instances where the true class is negative, and the model correctly predicted them as negative.\n",
    "2. The number 114 in the top-right corner represents the count of false positives (FP), indicating instances where the true class is negative, but the model incorrectly predicted them as positive.\n",
    "3. The number 220 in the bottom-left corner represents the count of false negatives (FN), indicating instances where the true class is positive, but the model incorrectly predicted them as negative.\n",
    "4. The number 428 in the bottom-right corner represents the count of true positives (TP), indicating instances where the true class is positive, and the model correctly predicted them as positive."
   ],
   "metadata": {
    "collapsed": false
   },
   "id": "526773e675f2c58f"
  },
  {
   "cell_type": "markdown",
   "source": [
    "## Data predicting in the final testing dataset\n",
    "\n",
    "Now we finally reach the predicting part. We now use our trained model to predict data in data/testdata.csv. We predict it and store the result in data/result.csv "
   ],
   "metadata": {
    "collapsed": false
   },
   "id": "d31f6b0c42ff2d4d"
  },
  {
   "cell_type": "code",
   "outputs": [
    {
     "data": {
      "text/plain": "   age workclass  fnlwgt     education  education.num      marital.status  \\\n0   71   Private  157909  Some-college             10       Never-married   \n1   34   Private  226443   Prof-school             15  Married-civ-spouse   \n2   36   Private  311255       HS-grad              9  Married-civ-spouse   \n3   32   Private  229732     Bachelors             13  Married-civ-spouse   \n4   20   Private  212582  Some-college             10       Never-married   \n\n          occupation   relationship   race     sex  capital.gain  \\\n0      Other-service  Not-in-family  White  Female          2964   \n1     Prof-specialty        Husband  White    Male             0   \n2  Machine-op-inspct        Husband  Black    Male             0   \n3              Sales        Husband  White    Male             0   \n4      Other-service      Own-child  White  Female             0   \n\n   capital.loss  hours.per.week native.country  \n0             0              60  United-States  \n1             0              55  United-States  \n2             0              40          Haiti  \n3             0              45  United-States  \n4             0              16  United-States  ",
      "text/html": "<div>\n<style scoped>\n    .dataframe tbody tr th:only-of-type {\n        vertical-align: middle;\n    }\n\n    .dataframe tbody tr th {\n        vertical-align: top;\n    }\n\n    .dataframe thead th {\n        text-align: right;\n    }\n</style>\n<table border=\"1\" class=\"dataframe\">\n  <thead>\n    <tr style=\"text-align: right;\">\n      <th></th>\n      <th>age</th>\n      <th>workclass</th>\n      <th>fnlwgt</th>\n      <th>education</th>\n      <th>education.num</th>\n      <th>marital.status</th>\n      <th>occupation</th>\n      <th>relationship</th>\n      <th>race</th>\n      <th>sex</th>\n      <th>capital.gain</th>\n      <th>capital.loss</th>\n      <th>hours.per.week</th>\n      <th>native.country</th>\n    </tr>\n  </thead>\n  <tbody>\n    <tr>\n      <th>0</th>\n      <td>71</td>\n      <td>Private</td>\n      <td>157909</td>\n      <td>Some-college</td>\n      <td>10</td>\n      <td>Never-married</td>\n      <td>Other-service</td>\n      <td>Not-in-family</td>\n      <td>White</td>\n      <td>Female</td>\n      <td>2964</td>\n      <td>0</td>\n      <td>60</td>\n      <td>United-States</td>\n    </tr>\n    <tr>\n      <th>1</th>\n      <td>34</td>\n      <td>Private</td>\n      <td>226443</td>\n      <td>Prof-school</td>\n      <td>15</td>\n      <td>Married-civ-spouse</td>\n      <td>Prof-specialty</td>\n      <td>Husband</td>\n      <td>White</td>\n      <td>Male</td>\n      <td>0</td>\n      <td>0</td>\n      <td>55</td>\n      <td>United-States</td>\n    </tr>\n    <tr>\n      <th>2</th>\n      <td>36</td>\n      <td>Private</td>\n      <td>311255</td>\n      <td>HS-grad</td>\n      <td>9</td>\n      <td>Married-civ-spouse</td>\n      <td>Machine-op-inspct</td>\n      <td>Husband</td>\n      <td>Black</td>\n      <td>Male</td>\n      <td>0</td>\n      <td>0</td>\n      <td>40</td>\n      <td>Haiti</td>\n    </tr>\n    <tr>\n      <th>3</th>\n      <td>32</td>\n      <td>Private</td>\n      <td>229732</td>\n      <td>Bachelors</td>\n      <td>13</td>\n      <td>Married-civ-spouse</td>\n      <td>Sales</td>\n      <td>Husband</td>\n      <td>White</td>\n      <td>Male</td>\n      <td>0</td>\n      <td>0</td>\n      <td>45</td>\n      <td>United-States</td>\n    </tr>\n    <tr>\n      <th>4</th>\n      <td>20</td>\n      <td>Private</td>\n      <td>212582</td>\n      <td>Some-college</td>\n      <td>10</td>\n      <td>Never-married</td>\n      <td>Other-service</td>\n      <td>Own-child</td>\n      <td>White</td>\n      <td>Female</td>\n      <td>0</td>\n      <td>0</td>\n      <td>16</td>\n      <td>United-States</td>\n    </tr>\n  </tbody>\n</table>\n</div>"
     },
     "execution_count": 1015,
     "metadata": {},
     "output_type": "execute_result"
    }
   ],
   "source": [
    "# Load the final testing dataset\n",
    "test_data = pd.read_csv('data/testdata.csv')\n",
    "test_data.head()"
   ],
   "metadata": {
    "collapsed": false,
    "ExecuteTime": {
     "end_time": "2024-06-08T20:29:26.430898600Z",
     "start_time": "2024-06-08T20:29:26.404531300Z"
    }
   },
   "id": "30b73b172ff2b9a2",
   "execution_count": 1015
  },
  {
   "cell_type": "code",
   "outputs": [],
   "source": [
    "categorical_columns = ['age','workclass','fnlwgt', 'education','education.num' ,'marital.status', 'occupation', 'relationship', 'race', 'sex','hours.per.week', 'native.country']\n",
    "\n",
    "# 针对每一列进行标签编码\n",
    "for column in categorical_columns:\n",
    "    test_data[column] = label_encoder.fit_transform(test_data[column])\n",
    "\n",
    "test_data = scaler.transform(test_data)\n",
    "\n",
    "# Predicting labels for the test data\n",
    "predictions = xgb.predict(test_data)\n"
   ],
   "metadata": {
    "collapsed": false,
    "ExecuteTime": {
     "end_time": "2024-06-08T20:29:26.495628900Z",
     "start_time": "2024-06-08T20:29:26.432900300Z"
    }
   },
   "id": "a2f05eba1581b739",
   "execution_count": 1016
  },
  {
   "cell_type": "markdown",
   "source": [
    "#### Data Storage"
   ],
   "metadata": {
    "collapsed": false
   },
   "id": "720beaa85a3e1136"
  },
  {
   "cell_type": "code",
   "outputs": [
    {
     "name": "stdout",
     "output_type": "stream",
     "text": [
      "Predictions saved successfully to 'predict/XGBoost_predictions.csv' and predict/XGBoostPredictions.txt\n"
     ]
    },
    {
     "data": {
      "text/plain": "   Prediction\n0           0\n1           1\n2           0\n3           1\n4           0\n5           0\n6           0\n7           1\n8           0\n9           1",
      "text/html": "<div>\n<style scoped>\n    .dataframe tbody tr th:only-of-type {\n        vertical-align: middle;\n    }\n\n    .dataframe tbody tr th {\n        vertical-align: top;\n    }\n\n    .dataframe thead th {\n        text-align: right;\n    }\n</style>\n<table border=\"1\" class=\"dataframe\">\n  <thead>\n    <tr style=\"text-align: right;\">\n      <th></th>\n      <th>Prediction</th>\n    </tr>\n  </thead>\n  <tbody>\n    <tr>\n      <th>0</th>\n      <td>0</td>\n    </tr>\n    <tr>\n      <th>1</th>\n      <td>1</td>\n    </tr>\n    <tr>\n      <th>2</th>\n      <td>0</td>\n    </tr>\n    <tr>\n      <th>3</th>\n      <td>1</td>\n    </tr>\n    <tr>\n      <th>4</th>\n      <td>0</td>\n    </tr>\n    <tr>\n      <th>5</th>\n      <td>0</td>\n    </tr>\n    <tr>\n      <th>6</th>\n      <td>0</td>\n    </tr>\n    <tr>\n      <th>7</th>\n      <td>1</td>\n    </tr>\n    <tr>\n      <th>8</th>\n      <td>0</td>\n    </tr>\n    <tr>\n      <th>9</th>\n      <td>1</td>\n    </tr>\n  </tbody>\n</table>\n</div>"
     },
     "execution_count": 1017,
     "metadata": {},
     "output_type": "execute_result"
    }
   ],
   "source": [
    "# Storing the predictions in a DataFrame\n",
    "test_predictions = pd.DataFrame({'Prediction': predictions})\n",
    "\n",
    "# Writing the predictions to a CSV file\n",
    "test_predictions.to_csv('predict/XGBoost_predictions.csv', index=False)\n",
    "\n",
    "# 打开一个文本文件，并将 DataFrame 中的 'predictions' 列数据写入文件\n",
    "with open('predict/XGBoostPredictions.txt', 'w') as f:\n",
    "    # 遍历 'predictions' 列中的每个值，并将其写入文件\n",
    "    for value in test_predictions['Prediction']:\n",
    "        f.write(str(value) + '\\n')\n",
    "\n",
    "print(\"Predictions saved successfully to 'predict/XGBoost_predictions.csv' and predict/XGBoostPredictions.txt\")\n",
    "test_predictions.head(10)"
   ],
   "metadata": {
    "collapsed": false,
    "ExecuteTime": {
     "end_time": "2024-06-08T20:29:26.518721900Z",
     "start_time": "2024-06-08T20:29:26.463913800Z"
    }
   },
   "id": "b99c4ffa218e392f",
   "execution_count": 1017
  },
  {
   "cell_type": "markdown",
   "source": [
    "## Comparison with XGBoost in Autogluon\n",
    "\n",
    "After checking the predict data, we find the data is different with the one by Autogluon. This is may because Autogluon has done updating on tuning the hyperparameter better."
   ],
   "metadata": {
    "collapsed": false
   },
   "id": "ecae46ccc0ceb71"
  },
  {
   "cell_type": "code",
   "outputs": [
    {
     "name": "stdout",
     "output_type": "stream",
     "text": [
      "我们的XGBoost中预测数值为 1 的数量: 1929\n",
      "Autogluon预测数值为 1 的数量: 1990\n",
      "两个数据集 'predictions' 列的差异: 451\n"
     ]
    }
   ],
   "source": [
    "# 统计值为 1 的数量\n",
    "count_ones = (test_predictions['Prediction'] == 1).sum()\n",
    "\n",
    "print(\"我们的XGBoost中预测数值为 1 的数量:\", count_ones)\n",
    "\n",
    "\n",
    "test_dataAuto = pd.read_csv('predict/Autogluon_predictions.csv')\n",
    "# 统计值为 1 的数量\n",
    "count_ones2 = (test_dataAuto['Predictions'] == 1).sum()\n",
    "\n",
    "print(\"Autogluon预测数值为 1 的数量:\", count_ones2)\n",
    "\n",
    "# 统计差异的计数\n",
    "diff_count = (test_predictions['Prediction'] != test_dataAuto['Predictions']).sum()\n",
    "print(\"两个数据集 'predictions' 列的差异:\", diff_count)"
   ],
   "metadata": {
    "collapsed": false,
    "ExecuteTime": {
     "end_time": "2024-06-08T20:29:26.628723300Z",
     "start_time": "2024-06-08T20:29:26.495628900Z"
    }
   },
   "id": "1cb360dc0fd640de",
   "execution_count": 1018
  },
  {
   "cell_type": "markdown",
   "source": [
    "同样的代码，跑出来的数据可能是不一样的（神奇）\n",
    "我在scikit-learn 1.5.0 里跑XGBoost是1930个数据，在 1.4.0版本里只能跑出1929个数据\n",
    "Autogluon在 1.1.0 版本上跑出来是1990个1，在anaconda的版本里跑出来是1980个1\n",
    "所以数据解释有差异比较正常（可能是包更新的原因）"
   ],
   "metadata": {
    "collapsed": false
   },
   "id": "5b2a056742e60b5b"
  }
 ],
 "metadata": {
  "kernelspec": {
   "display_name": "Python 3",
   "language": "python",
   "name": "python3"
  },
  "language_info": {
   "codemirror_mode": {
    "name": "ipython",
    "version": 2
   },
   "file_extension": ".py",
   "mimetype": "text/x-python",
   "name": "python",
   "nbconvert_exporter": "python",
   "pygments_lexer": "ipython2",
   "version": "2.7.6"
  }
 },
 "nbformat": 4,
 "nbformat_minor": 5
}
