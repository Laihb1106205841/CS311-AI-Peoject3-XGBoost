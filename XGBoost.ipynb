{
 "cells": [
  {
   "cell_type": "markdown",
   "source": [
    "## Predicting Adult Census Income Using XGBoost Tree Boosting System\n",
    "\n",
    "## Package Requirement"
   ],
   "metadata": {
    "collapsed": false
   },
   "id": "c7f9dae1e17045bc"
  },
  {
   "cell_type": "code",
   "outputs": [],
   "source": [
    "# importing libraries\n",
    "import pandas as pd\n",
    "import numpy as np\n",
    "import matplotlib.pyplot as plt\n",
    "import seaborn as sns\n",
    "from sklearn.preprocessing import LabelEncoder, StandardScaler\n",
    "from sklearn.model_selection import train_test_split"
   ],
   "metadata": {
    "collapsed": false,
    "ExecuteTime": {
     "end_time": "2024-06-07T19:49:36.743685900Z",
     "start_time": "2024-06-07T19:49:36.721174500Z"
    }
   },
   "id": "e87026dda4b387b",
   "execution_count": 356
  },
  {
   "cell_type": "code",
   "outputs": [],
   "source": [
    "# 读取 train.csv 文件\n",
    "train_df = pd.read_csv(\"data/traindata.csv\")\n",
    "\n",
    "# 读取 data.csv 文件，假设数据列名为 'income'\n",
    "data_df = pd.read_csv(\"data/trainlabel.csv\")\n",
    "\n",
    "# 将 'income' 数据列添加到 train_df 中\n",
    "train_df['Income'] = data_df['Income']\n",
    "\n",
    "# 将修改后的 train_df 保存为新的 CSV 文件\n",
    "train_df.to_csv(\"data/updated_train.csv\", index=False)"
   ],
   "metadata": {
    "collapsed": false,
    "ExecuteTime": {
     "end_time": "2024-06-07T19:49:36.893737900Z",
     "start_time": "2024-06-07T19:49:36.748687900Z"
    }
   },
   "id": "c5f06d033b5e0f03",
   "execution_count": 357
  },
  {
   "cell_type": "code",
   "outputs": [
    {
     "data": {
      "text/plain": "   age         workclass  fnlwgt     education  education.num  \\\n0   77         Local-gov  177550     Bachelors             13   \n1   40      Self-emp-inc  475322     Bachelors             13   \n2   29  Self-emp-not-inc  341672       HS-grad              9   \n3   41           Private  184378       HS-grad              9   \n4   22           Private  306967  Some-college             10   \n\n          marital.status        occupation    relationship  \\\n0     Married-civ-spouse      Adm-clerical         Husband   \n1              Separated      Craft-repair       Own-child   \n2  Married-spouse-absent  Transport-moving  Other-relative   \n3              Separated      Craft-repair   Not-in-family   \n4          Never-married      Adm-clerical   Not-in-family   \n\n                 race     sex  capital.gain  capital.loss  hours.per.week  \\\n0               White    Male          3818             0              14   \n1               White    Male             0             0              50   \n2  Asian-Pac-Islander    Male             0          1564              50   \n3               White    Male             0             0              40   \n4               White  Female             0             0              25   \n\n  native.country  Income  \n0  United-States       0  \n1  United-States       0  \n2          India       1  \n3  United-States       0  \n4  United-States       0  ",
      "text/html": "<div>\n<style scoped>\n    .dataframe tbody tr th:only-of-type {\n        vertical-align: middle;\n    }\n\n    .dataframe tbody tr th {\n        vertical-align: top;\n    }\n\n    .dataframe thead th {\n        text-align: right;\n    }\n</style>\n<table border=\"1\" class=\"dataframe\">\n  <thead>\n    <tr style=\"text-align: right;\">\n      <th></th>\n      <th>age</th>\n      <th>workclass</th>\n      <th>fnlwgt</th>\n      <th>education</th>\n      <th>education.num</th>\n      <th>marital.status</th>\n      <th>occupation</th>\n      <th>relationship</th>\n      <th>race</th>\n      <th>sex</th>\n      <th>capital.gain</th>\n      <th>capital.loss</th>\n      <th>hours.per.week</th>\n      <th>native.country</th>\n      <th>Income</th>\n    </tr>\n  </thead>\n  <tbody>\n    <tr>\n      <th>0</th>\n      <td>77</td>\n      <td>Local-gov</td>\n      <td>177550</td>\n      <td>Bachelors</td>\n      <td>13</td>\n      <td>Married-civ-spouse</td>\n      <td>Adm-clerical</td>\n      <td>Husband</td>\n      <td>White</td>\n      <td>Male</td>\n      <td>3818</td>\n      <td>0</td>\n      <td>14</td>\n      <td>United-States</td>\n      <td>0</td>\n    </tr>\n    <tr>\n      <th>1</th>\n      <td>40</td>\n      <td>Self-emp-inc</td>\n      <td>475322</td>\n      <td>Bachelors</td>\n      <td>13</td>\n      <td>Separated</td>\n      <td>Craft-repair</td>\n      <td>Own-child</td>\n      <td>White</td>\n      <td>Male</td>\n      <td>0</td>\n      <td>0</td>\n      <td>50</td>\n      <td>United-States</td>\n      <td>0</td>\n    </tr>\n    <tr>\n      <th>2</th>\n      <td>29</td>\n      <td>Self-emp-not-inc</td>\n      <td>341672</td>\n      <td>HS-grad</td>\n      <td>9</td>\n      <td>Married-spouse-absent</td>\n      <td>Transport-moving</td>\n      <td>Other-relative</td>\n      <td>Asian-Pac-Islander</td>\n      <td>Male</td>\n      <td>0</td>\n      <td>1564</td>\n      <td>50</td>\n      <td>India</td>\n      <td>1</td>\n    </tr>\n    <tr>\n      <th>3</th>\n      <td>41</td>\n      <td>Private</td>\n      <td>184378</td>\n      <td>HS-grad</td>\n      <td>9</td>\n      <td>Separated</td>\n      <td>Craft-repair</td>\n      <td>Not-in-family</td>\n      <td>White</td>\n      <td>Male</td>\n      <td>0</td>\n      <td>0</td>\n      <td>40</td>\n      <td>United-States</td>\n      <td>0</td>\n    </tr>\n    <tr>\n      <th>4</th>\n      <td>22</td>\n      <td>Private</td>\n      <td>306967</td>\n      <td>Some-college</td>\n      <td>10</td>\n      <td>Never-married</td>\n      <td>Adm-clerical</td>\n      <td>Not-in-family</td>\n      <td>White</td>\n      <td>Female</td>\n      <td>0</td>\n      <td>0</td>\n      <td>25</td>\n      <td>United-States</td>\n      <td>0</td>\n    </tr>\n  </tbody>\n</table>\n</div>"
     },
     "execution_count": 358,
     "metadata": {},
     "output_type": "execute_result"
    }
   ],
   "source": [
    "df = pd.read_csv('data/updated_train.csv')\n",
    "df.head()"
   ],
   "metadata": {
    "collapsed": false,
    "ExecuteTime": {
     "end_time": "2024-06-07T19:49:36.941550Z",
     "start_time": "2024-06-07T19:49:36.861650200Z"
    }
   },
   "id": "b1317ee7c21c703e",
   "execution_count": 358
  },
  {
   "cell_type": "code",
   "outputs": [],
   "source": [
    "# df.loc[df.duplicated() == True]"
   ],
   "metadata": {
    "collapsed": false,
    "ExecuteTime": {
     "end_time": "2024-06-07T19:49:36.941550Z",
     "start_time": "2024-06-07T19:49:36.901021500Z"
    }
   },
   "id": "2a5d50e221f3d888",
   "execution_count": 359
  },
  {
   "cell_type": "code",
   "outputs": [],
   "source": [
    "label_encoder = LabelEncoder()\n",
    "categorical_columns = ['Income', 'workclass', 'education', 'marital.status', 'occupation', 'relationship', 'race', 'sex', 'native.country']\n",
    "df[categorical_columns] = df[categorical_columns].apply(label_encoder.fit_transform)"
   ],
   "metadata": {
    "collapsed": false,
    "ExecuteTime": {
     "end_time": "2024-06-07T19:49:36.952870800Z",
     "start_time": "2024-06-07T19:49:36.904614600Z"
    }
   },
   "id": "7801e1a6b109f3e0",
   "execution_count": 360
  },
  {
   "cell_type": "code",
   "outputs": [],
   "source": [
    "x_train, x_test, y_train, y_test = train_test_split(df.drop(columns=['Income']), df['Income'], test_size=0.12, random_state=38)\n",
    "\n",
    "scaler = StandardScaler()\n",
    "x_train = scaler.fit_transform(x_train)\n",
    "x_test = scaler.transform(x_test)\n"
   ],
   "metadata": {
    "collapsed": false,
    "ExecuteTime": {
     "end_time": "2024-06-07T19:49:36.962865800Z",
     "start_time": "2024-06-07T19:49:36.931628100Z"
    }
   },
   "id": "af09abfca93d7fd1",
   "execution_count": 361
  },
  {
   "cell_type": "code",
   "outputs": [
    {
     "name": "stdout",
     "output_type": "stream",
     "text": [
      "**** ACCURACY_SCORE **** \n",
      "\n",
      " 0.8779239766081871 \n",
      "\n",
      "**** CLASSIFICATION_REPORT **** \n",
      "\n",
      "               precision    recall  f1-score   support\n",
      "\n",
      "           0       0.90      0.95      0.92      2088\n",
      "           1       0.79      0.66      0.72       648\n",
      "\n",
      "    accuracy                           0.88      2736\n",
      "   macro avg       0.84      0.80      0.82      2736\n",
      "weighted avg       0.87      0.88      0.87      2736\n",
      " \n",
      "\n",
      "**** CONFUSION MATRIX ****\n"
     ]
    }
   ],
   "source": [
    "from sklearn.metrics import accuracy_score, classification_report, confusion_matrix\n",
    "from xgboost import XGBClassifier\n",
    "\n",
    "xgb = XGBClassifier()\n",
    "xgb.fit(x_train, y_train)\n",
    "y_pred = xgb.predict(x_test)\n",
    "print('**** ACCURACY_SCORE **** \\n\\n', accuracy_score(y_test, y_pred), '\\n')\n",
    "print('**** CLASSIFICATION_REPORT **** \\n\\n', classification_report(y_test, y_pred), '\\n')\n",
    "print('**** CONFUSION MATRIX ****')"
   ],
   "metadata": {
    "collapsed": false,
    "ExecuteTime": {
     "end_time": "2024-06-07T19:49:37.175286400Z",
     "start_time": "2024-06-07T19:49:36.955870700Z"
    }
   },
   "id": "209fbbfa9d3ffad1",
   "execution_count": 363
  },
  {
   "cell_type": "markdown",
   "source": [
    "## Confusion Matrix\n",
    "The confusion matrix is a commonly used tool to evaluate the performance of a classification model, especially in multi-class classification problems. It illustrates the relationship between the model's predictions on the test set and the true labels.\n",
    "\n",
    "The primary purpose of the confusion matrix is to provide an intuitive understanding of the classification model's performance, particularly in terms of misclassifications between different classes. From the confusion matrix, we can comprehensively evaluate the model's performance."
   ],
   "metadata": {
    "collapsed": false
   },
   "id": "1388dca81410aaaa"
  },
  {
   "cell_type": "code",
   "outputs": [
    {
     "data": {
      "text/plain": "<Axes: >"
     },
     "execution_count": 364,
     "metadata": {},
     "output_type": "execute_result"
    },
    {
     "data": {
      "text/plain": "<Figure size 640x480 with 2 Axes>",
      "image/png": "[encoded data removed]"
     },
     "metadata": {},
     "output_type": "display_data"
    }
   ],
   "source": [
    "sns.heatmap(confusion_matrix(y_test, y_pred), annot=True, fmt='d')"
   ],
   "metadata": {
    "collapsed": false,
    "ExecuteTime": {
     "end_time": "2024-06-07T19:49:37.325661800Z",
     "start_time": "2024-06-07T19:49:37.125288100Z"
    }
   },
   "id": "83c06f6af3c5eb13",
   "execution_count": 364
  },
  {
   "cell_type": "markdown",
   "source": [
    "## Data Explanation\n",
    "\n",
    "1. The number 1974 in the top-left corner represents the count of true negatives (TN), indicating instances where the true class is negative, and the model correctly predicted them as negative.\n",
    "2. The number 114 in the top-right corner represents the count of false positives (FP), indicating instances where the true class is negative, but the model incorrectly predicted them as positive.\n",
    "3. The number 220 in the bottom-left corner represents the count of false negatives (FN), indicating instances where the true class is positive, but the model incorrectly predicted them as negative.\n",
    "4. The number 428 in the bottom-right corner represents the count of true positives (TP), indicating instances where the true class is positive, and the model correctly predicted them as positive."
   ],
   "metadata": {
    "collapsed": false
   },
   "id": "59a013be528f8ece"
  }
 ],
 "metadata": {
  "kernelspec": {
   "display_name": "Python 3",
   "language": "python",
   "name": "python3"
  },
  "language_info": {
   "codemirror_mode": {
    "name": "ipython",
    "version": 2
   },
   "file_extension": ".py",
   "mimetype": "text/x-python",
   "name": "python",
   "nbconvert_exporter": "python",
   "pygments_lexer": "ipython2",
   "version": "2.7.6"
  }
 },
 "nbformat": 4,
 "nbformat_minor": 5
}
