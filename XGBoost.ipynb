{
 "cells": [
  {
   "cell_type": "markdown",
   "source": [
    "Running XGBoost"
   ],
   "metadata": {
    "collapsed": false
   },
   "id": "c7f9dae1e17045bc"
  },
  {
   "cell_type": "code",
   "outputs": [],
   "source": [
    "\n",
    "# importing libraries\n",
    "import pandas as pd\n",
    "import numpy as np\n",
    "import matplotlib.pyplot as plt\n",
    "import seaborn as sns\n",
    "from sklearn.preprocessing import LabelEncoder, StandardScaler\n",
    "from sklearn.model_selection import train_test_split"
   ],
   "metadata": {
    "collapsed": false,
    "ExecuteTime": {
     "end_time": "2024-06-07T19:17:36.892197200Z",
     "start_time": "2024-06-07T19:17:36.880662300Z"
    }
   },
   "id": "e87026dda4b387b",
   "execution_count": 189
  },
  {
   "cell_type": "code",
   "outputs": [
    {
     "data": {
      "text/plain": "   age         workclass  fnlwgt     education  education.num  \\\n0   77         Local-gov  177550     Bachelors             13   \n1   40      Self-emp-inc  475322     Bachelors             13   \n2   29  Self-emp-not-inc  341672       HS-grad              9   \n3   41           Private  184378       HS-grad              9   \n4   22           Private  306967  Some-college             10   \n\n          marital.status        occupation    relationship  \\\n0     Married-civ-spouse      Adm-clerical         Husband   \n1              Separated      Craft-repair       Own-child   \n2  Married-spouse-absent  Transport-moving  Other-relative   \n3              Separated      Craft-repair   Not-in-family   \n4          Never-married      Adm-clerical   Not-in-family   \n\n                 race     sex  capital.gain  capital.loss  hours.per.week  \\\n0               White    Male          3818             0              14   \n1               White    Male             0             0              50   \n2  Asian-Pac-Islander    Male             0          1564              50   \n3               White    Male             0             0              40   \n4               White  Female             0             0              25   \n\n  native.country  Income  \n0  United-States       0  \n1  United-States       0  \n2          India       1  \n3  United-States       0  \n4  United-States       0  ",
      "text/html": "<div>\n<style scoped>\n    .dataframe tbody tr th:only-of-type {\n        vertical-align: middle;\n    }\n\n    .dataframe tbody tr th {\n        vertical-align: top;\n    }\n\n    .dataframe thead th {\n        text-align: right;\n    }\n</style>\n<table border=\"1\" class=\"dataframe\">\n  <thead>\n    <tr style=\"text-align: right;\">\n      <th></th>\n      <th>age</th>\n      <th>workclass</th>\n      <th>fnlwgt</th>\n      <th>education</th>\n      <th>education.num</th>\n      <th>marital.status</th>\n      <th>occupation</th>\n      <th>relationship</th>\n      <th>race</th>\n      <th>sex</th>\n      <th>capital.gain</th>\n      <th>capital.loss</th>\n      <th>hours.per.week</th>\n      <th>native.country</th>\n      <th>Income</th>\n    </tr>\n  </thead>\n  <tbody>\n    <tr>\n      <th>0</th>\n      <td>77</td>\n      <td>Local-gov</td>\n      <td>177550</td>\n      <td>Bachelors</td>\n      <td>13</td>\n      <td>Married-civ-spouse</td>\n      <td>Adm-clerical</td>\n      <td>Husband</td>\n      <td>White</td>\n      <td>Male</td>\n      <td>3818</td>\n      <td>0</td>\n      <td>14</td>\n      <td>United-States</td>\n      <td>0</td>\n    </tr>\n    <tr>\n      <th>1</th>\n      <td>40</td>\n      <td>Self-emp-inc</td>\n      <td>475322</td>\n      <td>Bachelors</td>\n      <td>13</td>\n      <td>Separated</td>\n      <td>Craft-repair</td>\n      <td>Own-child</td>\n      <td>White</td>\n      <td>Male</td>\n      <td>0</td>\n      <td>0</td>\n      <td>50</td>\n      <td>United-States</td>\n      <td>0</td>\n    </tr>\n    <tr>\n      <th>2</th>\n      <td>29</td>\n      <td>Self-emp-not-inc</td>\n      <td>341672</td>\n      <td>HS-grad</td>\n      <td>9</td>\n      <td>Married-spouse-absent</td>\n      <td>Transport-moving</td>\n      <td>Other-relative</td>\n      <td>Asian-Pac-Islander</td>\n      <td>Male</td>\n      <td>0</td>\n      <td>1564</td>\n      <td>50</td>\n      <td>India</td>\n      <td>1</td>\n    </tr>\n    <tr>\n      <th>3</th>\n      <td>41</td>\n      <td>Private</td>\n      <td>184378</td>\n      <td>HS-grad</td>\n      <td>9</td>\n      <td>Separated</td>\n      <td>Craft-repair</td>\n      <td>Not-in-family</td>\n      <td>White</td>\n      <td>Male</td>\n      <td>0</td>\n      <td>0</td>\n      <td>40</td>\n      <td>United-States</td>\n      <td>0</td>\n    </tr>\n    <tr>\n      <th>4</th>\n      <td>22</td>\n      <td>Private</td>\n      <td>306967</td>\n      <td>Some-college</td>\n      <td>10</td>\n      <td>Never-married</td>\n      <td>Adm-clerical</td>\n      <td>Not-in-family</td>\n      <td>White</td>\n      <td>Female</td>\n      <td>0</td>\n      <td>0</td>\n      <td>25</td>\n      <td>United-States</td>\n      <td>0</td>\n    </tr>\n  </tbody>\n</table>\n</div>"
     },
     "execution_count": 190,
     "metadata": {},
     "output_type": "execute_result"
    }
   ],
   "source": [
    "\n",
    "df = pd.read_csv('data/traindata1.csv')\n",
    "df.head()"
   ],
   "metadata": {
    "collapsed": false,
    "ExecuteTime": {
     "end_time": "2024-06-07T19:17:36.948390600Z",
     "start_time": "2024-06-07T19:17:36.896173600Z"
    }
   },
   "id": "b1317ee7c21c703e",
   "execution_count": 190
  },
  {
   "cell_type": "code",
   "outputs": [
    {
     "data": {
      "text/plain": "       age workclass  fnlwgt     education  education.num      marital.status  \\\n5721    44   Private  367749     Bachelors             13       Never-married   \n9853    25   Private  195994       1st-4th              2       Never-married   \n15108   20   Private  107658  Some-college             10       Never-married   \n16958   42   Private  204235  Some-college             10  Married-civ-spouse   \n18372   25   Private  308144     Bachelors             13       Never-married   \n18382   23   Private  240137       5th-6th              3       Never-married   \n19488   46   Private  173243       HS-grad              9  Married-civ-spouse   \n19733   39   Private   30916       HS-grad              9  Married-civ-spouse   \n20026   27   Private  255582       HS-grad              9       Never-married   \n20405   21   Private  243368     Preschool              1       Never-married   \n\n              occupation   relationship   race     sex  capital.gain  \\\n5721      Prof-specialty  Not-in-family  White  Female             0   \n9853     Priv-house-serv  Not-in-family  White  Female             0   \n15108       Tech-support  Not-in-family  White  Female             0   \n16958     Prof-specialty        Husband  White    Male             0   \n18372       Craft-repair  Not-in-family  White    Male             0   \n18382  Handlers-cleaners  Not-in-family  White    Male             0   \n19488       Craft-repair        Husband  White    Male             0   \n19733       Craft-repair        Husband  White    Male             0   \n20026  Machine-op-inspct  Not-in-family  White  Female             0   \n20405    Farming-fishing  Not-in-family  White    Male             0   \n\n       capital.loss  hours.per.week native.country  Income  \n5721              0              45         Mexico       0  \n9853              0              40      Guatemala       0  \n15108             0              10  United-States       0  \n16958             0              40  United-States       1  \n18372             0              40         Mexico       0  \n18382             0              55         Mexico       0  \n19488             0              40  United-States       0  \n19733             0              40  United-States       0  \n20026             0              40  United-States       0  \n20405             0              50         Mexico       0  ",
      "text/html": "<div>\n<style scoped>\n    .dataframe tbody tr th:only-of-type {\n        vertical-align: middle;\n    }\n\n    .dataframe tbody tr th {\n        vertical-align: top;\n    }\n\n    .dataframe thead th {\n        text-align: right;\n    }\n</style>\n<table border=\"1\" class=\"dataframe\">\n  <thead>\n    <tr style=\"text-align: right;\">\n      <th></th>\n      <th>age</th>\n      <th>workclass</th>\n      <th>fnlwgt</th>\n      <th>education</th>\n      <th>education.num</th>\n      <th>marital.status</th>\n      <th>occupation</th>\n      <th>relationship</th>\n      <th>race</th>\n      <th>sex</th>\n      <th>capital.gain</th>\n      <th>capital.loss</th>\n      <th>hours.per.week</th>\n      <th>native.country</th>\n      <th>Income</th>\n    </tr>\n  </thead>\n  <tbody>\n    <tr>\n      <th>5721</th>\n      <td>44</td>\n      <td>Private</td>\n      <td>367749</td>\n      <td>Bachelors</td>\n      <td>13</td>\n      <td>Never-married</td>\n      <td>Prof-specialty</td>\n      <td>Not-in-family</td>\n      <td>White</td>\n      <td>Female</td>\n      <td>0</td>\n      <td>0</td>\n      <td>45</td>\n      <td>Mexico</td>\n      <td>0</td>\n    </tr>\n    <tr>\n      <th>9853</th>\n      <td>25</td>\n      <td>Private</td>\n      <td>195994</td>\n      <td>1st-4th</td>\n      <td>2</td>\n      <td>Never-married</td>\n      <td>Priv-house-serv</td>\n      <td>Not-in-family</td>\n      <td>White</td>\n      <td>Female</td>\n      <td>0</td>\n      <td>0</td>\n      <td>40</td>\n      <td>Guatemala</td>\n      <td>0</td>\n    </tr>\n    <tr>\n      <th>15108</th>\n      <td>20</td>\n      <td>Private</td>\n      <td>107658</td>\n      <td>Some-college</td>\n      <td>10</td>\n      <td>Never-married</td>\n      <td>Tech-support</td>\n      <td>Not-in-family</td>\n      <td>White</td>\n      <td>Female</td>\n      <td>0</td>\n      <td>0</td>\n      <td>10</td>\n      <td>United-States</td>\n      <td>0</td>\n    </tr>\n    <tr>\n      <th>16958</th>\n      <td>42</td>\n      <td>Private</td>\n      <td>204235</td>\n      <td>Some-college</td>\n      <td>10</td>\n      <td>Married-civ-spouse</td>\n      <td>Prof-specialty</td>\n      <td>Husband</td>\n      <td>White</td>\n      <td>Male</td>\n      <td>0</td>\n      <td>0</td>\n      <td>40</td>\n      <td>United-States</td>\n      <td>1</td>\n    </tr>\n    <tr>\n      <th>18372</th>\n      <td>25</td>\n      <td>Private</td>\n      <td>308144</td>\n      <td>Bachelors</td>\n      <td>13</td>\n      <td>Never-married</td>\n      <td>Craft-repair</td>\n      <td>Not-in-family</td>\n      <td>White</td>\n      <td>Male</td>\n      <td>0</td>\n      <td>0</td>\n      <td>40</td>\n      <td>Mexico</td>\n      <td>0</td>\n    </tr>\n    <tr>\n      <th>18382</th>\n      <td>23</td>\n      <td>Private</td>\n      <td>240137</td>\n      <td>5th-6th</td>\n      <td>3</td>\n      <td>Never-married</td>\n      <td>Handlers-cleaners</td>\n      <td>Not-in-family</td>\n      <td>White</td>\n      <td>Male</td>\n      <td>0</td>\n      <td>0</td>\n      <td>55</td>\n      <td>Mexico</td>\n      <td>0</td>\n    </tr>\n    <tr>\n      <th>19488</th>\n      <td>46</td>\n      <td>Private</td>\n      <td>173243</td>\n      <td>HS-grad</td>\n      <td>9</td>\n      <td>Married-civ-spouse</td>\n      <td>Craft-repair</td>\n      <td>Husband</td>\n      <td>White</td>\n      <td>Male</td>\n      <td>0</td>\n      <td>0</td>\n      <td>40</td>\n      <td>United-States</td>\n      <td>0</td>\n    </tr>\n    <tr>\n      <th>19733</th>\n      <td>39</td>\n      <td>Private</td>\n      <td>30916</td>\n      <td>HS-grad</td>\n      <td>9</td>\n      <td>Married-civ-spouse</td>\n      <td>Craft-repair</td>\n      <td>Husband</td>\n      <td>White</td>\n      <td>Male</td>\n      <td>0</td>\n      <td>0</td>\n      <td>40</td>\n      <td>United-States</td>\n      <td>0</td>\n    </tr>\n    <tr>\n      <th>20026</th>\n      <td>27</td>\n      <td>Private</td>\n      <td>255582</td>\n      <td>HS-grad</td>\n      <td>9</td>\n      <td>Never-married</td>\n      <td>Machine-op-inspct</td>\n      <td>Not-in-family</td>\n      <td>White</td>\n      <td>Female</td>\n      <td>0</td>\n      <td>0</td>\n      <td>40</td>\n      <td>United-States</td>\n      <td>0</td>\n    </tr>\n    <tr>\n      <th>20405</th>\n      <td>21</td>\n      <td>Private</td>\n      <td>243368</td>\n      <td>Preschool</td>\n      <td>1</td>\n      <td>Never-married</td>\n      <td>Farming-fishing</td>\n      <td>Not-in-family</td>\n      <td>White</td>\n      <td>Male</td>\n      <td>0</td>\n      <td>0</td>\n      <td>50</td>\n      <td>Mexico</td>\n      <td>0</td>\n    </tr>\n  </tbody>\n</table>\n</div>"
     },
     "execution_count": 191,
     "metadata": {},
     "output_type": "execute_result"
    }
   ],
   "source": [
    "df.loc[df.duplicated() == True]"
   ],
   "metadata": {
    "collapsed": false,
    "ExecuteTime": {
     "end_time": "2024-06-07T19:17:36.969863300Z",
     "start_time": "2024-06-07T19:17:36.935297300Z"
    }
   },
   "id": "2a5d50e221f3d888",
   "execution_count": 191
  },
  {
   "cell_type": "code",
   "outputs": [],
   "source": [
    "\n",
    "\n",
    "label_encoder = LabelEncoder()\n",
    "categorical_columns = ['Income', 'workclass', 'education', 'marital.status', 'occupation', 'relationship', 'race', 'sex', 'native.country']\n",
    "df[categorical_columns] = df[categorical_columns].apply(label_encoder.fit_transform)\n"
   ],
   "metadata": {
    "collapsed": false,
    "ExecuteTime": {
     "end_time": "2024-06-07T19:17:37.055796700Z",
     "start_time": "2024-06-07T19:17:36.958259200Z"
    }
   },
   "id": "7801e1a6b109f3e0",
   "execution_count": 192
  },
  {
   "cell_type": "code",
   "outputs": [],
   "source": [
    "\n",
    "x_train, x_test, y_train, y_test = train_test_split(df.drop(columns=['Income']), df['Income'], test_size=0.18, random_state=38)"
   ],
   "metadata": {
    "collapsed": false,
    "ExecuteTime": {
     "end_time": "2024-06-07T19:17:37.078792300Z",
     "start_time": "2024-06-07T19:17:36.983914700Z"
    }
   },
   "id": "af09abfca93d7fd1",
   "execution_count": 193
  },
  {
   "cell_type": "code",
   "outputs": [],
   "source": [
    "\n",
    "\n",
    "scaler = StandardScaler()\n",
    "x_train = scaler.fit_transform(x_train)\n",
    "x_test = scaler.transform(x_test)\n"
   ],
   "metadata": {
    "collapsed": false,
    "ExecuteTime": {
     "end_time": "2024-06-07T19:17:37.089794800Z",
     "start_time": "2024-06-07T19:17:36.991130300Z"
    }
   },
   "id": "9f947c2adeefce2c",
   "execution_count": 194
  },
  {
   "cell_type": "code",
   "outputs": [
    {
     "name": "stdout",
     "output_type": "stream",
     "text": [
      "**** ACCURACY_SCORE **** \n",
      "\n",
      " 0.874238362174019 \n",
      "\n",
      "**** CLASSIFICATION_REPORT **** \n",
      "\n",
      "               precision    recall  f1-score   support\n",
      "\n",
      "           0       0.90      0.94      0.92      3116\n",
      "           1       0.78      0.66      0.72       987\n",
      "\n",
      "    accuracy                           0.87      4103\n",
      "   macro avg       0.84      0.80      0.82      4103\n",
      "weighted avg       0.87      0.87      0.87      4103\n",
      " \n",
      "\n",
      "**** CONFUSION MATRIX ****\n"
     ]
    }
   ],
   "source": [
    "from sklearn.ensemble import RandomForestClassifier\n",
    "from sklearn.metrics import accuracy_score, classification_report, confusion_matrix\n",
    "from xgboost import XGBClassifier\n",
    "\n",
    "xgb = XGBClassifier()\n",
    "xgb.fit(x_train, y_train)\n",
    "y_pred = xgb.predict(x_test)\n",
    "print('**** ACCURACY_SCORE **** \\n\\n', accuracy_score(y_test, y_pred), '\\n')\n",
    "print('**** CLASSIFICATION_REPORT **** \\n\\n', classification_report(y_test, y_pred), '\\n')\n",
    "print('**** CONFUSION MATRIX ****')"
   ],
   "metadata": {
    "collapsed": false,
    "ExecuteTime": {
     "end_time": "2024-06-07T19:17:37.148718100Z",
     "start_time": "2024-06-07T19:17:37.005793600Z"
    }
   },
   "id": "209fbbfa9d3ffad1",
   "execution_count": 195
  },
  {
   "cell_type": "code",
   "outputs": [
    {
     "data": {
      "text/plain": "<Axes: >"
     },
     "execution_count": 196,
     "metadata": {},
     "output_type": "execute_result"
    },
    {
     "data": {
      "text/plain": "<Figure size 640x480 with 2 Axes>",
      "image/png": "[encoded data removed]"
     },
     "metadata": {},
     "output_type": "display_data"
    }
   ],
   "source": [
    "\n",
    "sns.heatmap(confusion_matrix(y_test, y_pred), annot=True, fmt='d')"
   ],
   "metadata": {
    "collapsed": false,
    "ExecuteTime": {
     "end_time": "2024-06-07T19:17:37.292739300Z",
     "start_time": "2024-06-07T19:17:37.136718Z"
    }
   },
   "id": "e8a85ae564ae416",
   "execution_count": 196
  }
 ],
 "metadata": {
  "kernelspec": {
   "display_name": "Python 3",
   "language": "python",
   "name": "python3"
  },
  "language_info": {
   "codemirror_mode": {
    "name": "ipython",
    "version": 2
   },
   "file_extension": ".py",
   "mimetype": "text/x-python",
   "name": "python",
   "nbconvert_exporter": "python",
   "pygments_lexer": "ipython2",
   "version": "2.7.6"
  }
 },
 "nbformat": 4,
 "nbformat_minor": 5
}
