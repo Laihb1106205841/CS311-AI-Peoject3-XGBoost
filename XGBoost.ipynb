{
 "cells": [
  {
   "cell_type": "markdown",
   "source": [
    "## Predicting Adult Census Income Using XGBoost Tree Boosting System\n",
    "\n",
    "## Package Requirement\n",
    "\n",
    "## Running Preparation\n",
    "**Needed Python Version:**\n",
    " > \\>=3.09 \n",
    " My computer runs well in 3.11\n",
    "\n",
    "**Needed Package:**\n",
    "\n",
    "| Library    | Version    | Notes                    |\n",
    "|------------|------------|--------------------------|\n",
    "| pandas     | 2.2.2      | Recommended              |\n",
    "| seaborn    | 0.13.2     | Recommended              |\n",
    "| sklearn    | 1.4.0      | Recommended (1.5.0 tested OK) |\n",
    "| xgboost    | 2.0.3      | Recommended              |\n"
   ],
   "metadata": {
    "collapsed": false
   },
   "id": "c7f9dae1e17045bc"
  },
  {
   "cell_type": "code",
   "outputs": [],
   "source": [
    "import pandas as pd\n",
    "import seaborn as sns\n",
    "from sklearn.preprocessing import LabelEncoder, StandardScaler\n",
    "from sklearn.model_selection import train_test_split\n",
    "from sklearn.metrics import accuracy_score, classification_report, confusion_matrix\n",
    "from xgboost import XGBClassifier"
   ],
   "metadata": {
    "collapsed": false,
    "ExecuteTime": {
     "end_time": "2024-06-08T08:14:17.792066600Z",
     "start_time": "2024-06-08T08:14:17.751061500Z"
    }
   },
   "id": "e87026dda4b387b",
   "execution_count": 9
  },
  {
   "cell_type": "markdown",
   "source": [
    "## Data Preprocessing:\n",
    "### 1. Preprocessing of loading and data reformatting\n",
    "XGBoost will automatically train the input data as a whole csv just like excel. To meet its requirement, we need to add trainlabel.csv's col into traindata.csv"
   ],
   "metadata": {
    "collapsed": false
   },
   "id": "8720d609125c51b1"
  },
  {
   "cell_type": "code",
   "outputs": [],
   "source": [
    "# 读取 train.csv 文件\n",
    "train_df = pd.read_csv(\"data/traindata.csv\")\n",
    "\n",
    "# 读取 data.csv 文件，假设数据列名为 'income'\n",
    "data_df = pd.read_csv(\"data/trainlabel.csv\")\n",
    "\n",
    "# 将 'income' 数据列添加到 train_df 中\n",
    "train_df['Income'] = data_df['Income']\n",
    "\n",
    "# 将修改后的 train_df 保存为新的 CSV 文件\n",
    "train_df.to_csv(\"data/updated_train.csv\", index=False)"
   ],
   "metadata": {
    "collapsed": false,
    "ExecuteTime": {
     "end_time": "2024-06-08T08:14:17.919555400Z",
     "start_time": "2024-06-08T08:14:17.797067700Z"
    }
   },
   "id": "c5f06d033b5e0f03",
   "execution_count": 10
  },
  {
   "cell_type": "code",
   "outputs": [
    {
     "data": {
      "text/plain": "   age         workclass  fnlwgt     education  education.num  \\\n0   77         Local-gov  177550     Bachelors             13   \n1   40      Self-emp-inc  475322     Bachelors             13   \n2   29  Self-emp-not-inc  341672       HS-grad              9   \n3   41           Private  184378       HS-grad              9   \n4   22           Private  306967  Some-college             10   \n\n          marital.status        occupation    relationship  \\\n0     Married-civ-spouse      Adm-clerical         Husband   \n1              Separated      Craft-repair       Own-child   \n2  Married-spouse-absent  Transport-moving  Other-relative   \n3              Separated      Craft-repair   Not-in-family   \n4          Never-married      Adm-clerical   Not-in-family   \n\n                 race     sex  capital.gain  capital.loss  hours.per.week  \\\n0               White    Male          3818             0              14   \n1               White    Male             0             0              50   \n2  Asian-Pac-Islander    Male             0          1564              50   \n3               White    Male             0             0              40   \n4               White  Female             0             0              25   \n\n  native.country  Income  \n0  United-States       0  \n1  United-States       0  \n2          India       1  \n3  United-States       0  \n4  United-States       0  ",
      "text/html": "<div>\n<style scoped>\n    .dataframe tbody tr th:only-of-type {\n        vertical-align: middle;\n    }\n\n    .dataframe tbody tr th {\n        vertical-align: top;\n    }\n\n    .dataframe thead th {\n        text-align: right;\n    }\n</style>\n<table border=\"1\" class=\"dataframe\">\n  <thead>\n    <tr style=\"text-align: right;\">\n      <th></th>\n      <th>age</th>\n      <th>workclass</th>\n      <th>fnlwgt</th>\n      <th>education</th>\n      <th>education.num</th>\n      <th>marital.status</th>\n      <th>occupation</th>\n      <th>relationship</th>\n      <th>race</th>\n      <th>sex</th>\n      <th>capital.gain</th>\n      <th>capital.loss</th>\n      <th>hours.per.week</th>\n      <th>native.country</th>\n      <th>Income</th>\n    </tr>\n  </thead>\n  <tbody>\n    <tr>\n      <th>0</th>\n      <td>77</td>\n      <td>Local-gov</td>\n      <td>177550</td>\n      <td>Bachelors</td>\n      <td>13</td>\n      <td>Married-civ-spouse</td>\n      <td>Adm-clerical</td>\n      <td>Husband</td>\n      <td>White</td>\n      <td>Male</td>\n      <td>3818</td>\n      <td>0</td>\n      <td>14</td>\n      <td>United-States</td>\n      <td>0</td>\n    </tr>\n    <tr>\n      <th>1</th>\n      <td>40</td>\n      <td>Self-emp-inc</td>\n      <td>475322</td>\n      <td>Bachelors</td>\n      <td>13</td>\n      <td>Separated</td>\n      <td>Craft-repair</td>\n      <td>Own-child</td>\n      <td>White</td>\n      <td>Male</td>\n      <td>0</td>\n      <td>0</td>\n      <td>50</td>\n      <td>United-States</td>\n      <td>0</td>\n    </tr>\n    <tr>\n      <th>2</th>\n      <td>29</td>\n      <td>Self-emp-not-inc</td>\n      <td>341672</td>\n      <td>HS-grad</td>\n      <td>9</td>\n      <td>Married-spouse-absent</td>\n      <td>Transport-moving</td>\n      <td>Other-relative</td>\n      <td>Asian-Pac-Islander</td>\n      <td>Male</td>\n      <td>0</td>\n      <td>1564</td>\n      <td>50</td>\n      <td>India</td>\n      <td>1</td>\n    </tr>\n    <tr>\n      <th>3</th>\n      <td>41</td>\n      <td>Private</td>\n      <td>184378</td>\n      <td>HS-grad</td>\n      <td>9</td>\n      <td>Separated</td>\n      <td>Craft-repair</td>\n      <td>Not-in-family</td>\n      <td>White</td>\n      <td>Male</td>\n      <td>0</td>\n      <td>0</td>\n      <td>40</td>\n      <td>United-States</td>\n      <td>0</td>\n    </tr>\n    <tr>\n      <th>4</th>\n      <td>22</td>\n      <td>Private</td>\n      <td>306967</td>\n      <td>Some-college</td>\n      <td>10</td>\n      <td>Never-married</td>\n      <td>Adm-clerical</td>\n      <td>Not-in-family</td>\n      <td>White</td>\n      <td>Female</td>\n      <td>0</td>\n      <td>0</td>\n      <td>25</td>\n      <td>United-States</td>\n      <td>0</td>\n    </tr>\n  </tbody>\n</table>\n</div>"
     },
     "execution_count": 11,
     "metadata": {},
     "output_type": "execute_result"
    }
   ],
   "source": [
    "df = pd.read_csv('data/updated_train.csv')\n",
    "df.head()"
   ],
   "metadata": {
    "collapsed": false,
    "ExecuteTime": {
     "end_time": "2024-06-08T08:14:17.963439500Z",
     "start_time": "2024-06-08T08:14:17.921555100Z"
    }
   },
   "id": "b1317ee7c21c703e",
   "execution_count": 11
  },
  {
   "cell_type": "markdown",
   "source": [
    "### 2. Preprocessing of duplicating the same row\n",
    "\n",
    "def duplicated(self,subset: Hashable | Sequence\\[Hashable] | None = None, keep: Literal\\[\"first\", \"last\", False] = \"first\")\n",
    "  \n",
    "-> Series\n",
    "        Return boolean Series denoting duplicate rows.\n",
    "        Considering certain columns is optional.\n",
    "See Also\n",
    "* Index.duplicated: Equivalent method on index.\n",
    "* Series.duplicated: Equivalent method on Series.\n",
    "* Series.drop_duplicates: Remove duplicate values from Series.\n",
    "* DataFrame.drop_duplicates: Remove duplicate values from DataFrame."
   ],
   "metadata": {
    "collapsed": false
   },
   "id": "503051a44534945d"
  },
  {
   "cell_type": "code",
   "outputs": [
    {
     "data": {
      "text/plain": "       age workclass  fnlwgt     education  education.num      marital.status  \\\n5721    44   Private  367749     Bachelors             13       Never-married   \n9853    25   Private  195994       1st-4th              2       Never-married   \n15108   20   Private  107658  Some-college             10       Never-married   \n16958   42   Private  204235  Some-college             10  Married-civ-spouse   \n18372   25   Private  308144     Bachelors             13       Never-married   \n18382   23   Private  240137       5th-6th              3       Never-married   \n19488   46   Private  173243       HS-grad              9  Married-civ-spouse   \n19733   39   Private   30916       HS-grad              9  Married-civ-spouse   \n20026   27   Private  255582       HS-grad              9       Never-married   \n20405   21   Private  243368     Preschool              1       Never-married   \n\n              occupation   relationship   race     sex  capital.gain  \\\n5721      Prof-specialty  Not-in-family  White  Female             0   \n9853     Priv-house-serv  Not-in-family  White  Female             0   \n15108       Tech-support  Not-in-family  White  Female             0   \n16958     Prof-specialty        Husband  White    Male             0   \n18372       Craft-repair  Not-in-family  White    Male             0   \n18382  Handlers-cleaners  Not-in-family  White    Male             0   \n19488       Craft-repair        Husband  White    Male             0   \n19733       Craft-repair        Husband  White    Male             0   \n20026  Machine-op-inspct  Not-in-family  White  Female             0   \n20405    Farming-fishing  Not-in-family  White    Male             0   \n\n       capital.loss  hours.per.week native.country  Income  \n5721              0              45         Mexico       0  \n9853              0              40      Guatemala       0  \n15108             0              10  United-States       0  \n16958             0              40  United-States       1  \n18372             0              40         Mexico       0  \n18382             0              55         Mexico       0  \n19488             0              40  United-States       0  \n19733             0              40  United-States       0  \n20026             0              40  United-States       0  \n20405             0              50         Mexico       0  ",
      "text/html": "<div>\n<style scoped>\n    .dataframe tbody tr th:only-of-type {\n        vertical-align: middle;\n    }\n\n    .dataframe tbody tr th {\n        vertical-align: top;\n    }\n\n    .dataframe thead th {\n        text-align: right;\n    }\n</style>\n<table border=\"1\" class=\"dataframe\">\n  <thead>\n    <tr style=\"text-align: right;\">\n      <th></th>\n      <th>age</th>\n      <th>workclass</th>\n      <th>fnlwgt</th>\n      <th>education</th>\n      <th>education.num</th>\n      <th>marital.status</th>\n      <th>occupation</th>\n      <th>relationship</th>\n      <th>race</th>\n      <th>sex</th>\n      <th>capital.gain</th>\n      <th>capital.loss</th>\n      <th>hours.per.week</th>\n      <th>native.country</th>\n      <th>Income</th>\n    </tr>\n  </thead>\n  <tbody>\n    <tr>\n      <th>5721</th>\n      <td>44</td>\n      <td>Private</td>\n      <td>367749</td>\n      <td>Bachelors</td>\n      <td>13</td>\n      <td>Never-married</td>\n      <td>Prof-specialty</td>\n      <td>Not-in-family</td>\n      <td>White</td>\n      <td>Female</td>\n      <td>0</td>\n      <td>0</td>\n      <td>45</td>\n      <td>Mexico</td>\n      <td>0</td>\n    </tr>\n    <tr>\n      <th>9853</th>\n      <td>25</td>\n      <td>Private</td>\n      <td>195994</td>\n      <td>1st-4th</td>\n      <td>2</td>\n      <td>Never-married</td>\n      <td>Priv-house-serv</td>\n      <td>Not-in-family</td>\n      <td>White</td>\n      <td>Female</td>\n      <td>0</td>\n      <td>0</td>\n      <td>40</td>\n      <td>Guatemala</td>\n      <td>0</td>\n    </tr>\n    <tr>\n      <th>15108</th>\n      <td>20</td>\n      <td>Private</td>\n      <td>107658</td>\n      <td>Some-college</td>\n      <td>10</td>\n      <td>Never-married</td>\n      <td>Tech-support</td>\n      <td>Not-in-family</td>\n      <td>White</td>\n      <td>Female</td>\n      <td>0</td>\n      <td>0</td>\n      <td>10</td>\n      <td>United-States</td>\n      <td>0</td>\n    </tr>\n    <tr>\n      <th>16958</th>\n      <td>42</td>\n      <td>Private</td>\n      <td>204235</td>\n      <td>Some-college</td>\n      <td>10</td>\n      <td>Married-civ-spouse</td>\n      <td>Prof-specialty</td>\n      <td>Husband</td>\n      <td>White</td>\n      <td>Male</td>\n      <td>0</td>\n      <td>0</td>\n      <td>40</td>\n      <td>United-States</td>\n      <td>1</td>\n    </tr>\n    <tr>\n      <th>18372</th>\n      <td>25</td>\n      <td>Private</td>\n      <td>308144</td>\n      <td>Bachelors</td>\n      <td>13</td>\n      <td>Never-married</td>\n      <td>Craft-repair</td>\n      <td>Not-in-family</td>\n      <td>White</td>\n      <td>Male</td>\n      <td>0</td>\n      <td>0</td>\n      <td>40</td>\n      <td>Mexico</td>\n      <td>0</td>\n    </tr>\n    <tr>\n      <th>18382</th>\n      <td>23</td>\n      <td>Private</td>\n      <td>240137</td>\n      <td>5th-6th</td>\n      <td>3</td>\n      <td>Never-married</td>\n      <td>Handlers-cleaners</td>\n      <td>Not-in-family</td>\n      <td>White</td>\n      <td>Male</td>\n      <td>0</td>\n      <td>0</td>\n      <td>55</td>\n      <td>Mexico</td>\n      <td>0</td>\n    </tr>\n    <tr>\n      <th>19488</th>\n      <td>46</td>\n      <td>Private</td>\n      <td>173243</td>\n      <td>HS-grad</td>\n      <td>9</td>\n      <td>Married-civ-spouse</td>\n      <td>Craft-repair</td>\n      <td>Husband</td>\n      <td>White</td>\n      <td>Male</td>\n      <td>0</td>\n      <td>0</td>\n      <td>40</td>\n      <td>United-States</td>\n      <td>0</td>\n    </tr>\n    <tr>\n      <th>19733</th>\n      <td>39</td>\n      <td>Private</td>\n      <td>30916</td>\n      <td>HS-grad</td>\n      <td>9</td>\n      <td>Married-civ-spouse</td>\n      <td>Craft-repair</td>\n      <td>Husband</td>\n      <td>White</td>\n      <td>Male</td>\n      <td>0</td>\n      <td>0</td>\n      <td>40</td>\n      <td>United-States</td>\n      <td>0</td>\n    </tr>\n    <tr>\n      <th>20026</th>\n      <td>27</td>\n      <td>Private</td>\n      <td>255582</td>\n      <td>HS-grad</td>\n      <td>9</td>\n      <td>Never-married</td>\n      <td>Machine-op-inspct</td>\n      <td>Not-in-family</td>\n      <td>White</td>\n      <td>Female</td>\n      <td>0</td>\n      <td>0</td>\n      <td>40</td>\n      <td>United-States</td>\n      <td>0</td>\n    </tr>\n    <tr>\n      <th>20405</th>\n      <td>21</td>\n      <td>Private</td>\n      <td>243368</td>\n      <td>Preschool</td>\n      <td>1</td>\n      <td>Never-married</td>\n      <td>Farming-fishing</td>\n      <td>Not-in-family</td>\n      <td>White</td>\n      <td>Male</td>\n      <td>0</td>\n      <td>0</td>\n      <td>50</td>\n      <td>Mexico</td>\n      <td>0</td>\n    </tr>\n  </tbody>\n</table>\n</div>"
     },
     "execution_count": 12,
     "metadata": {},
     "output_type": "execute_result"
    }
   ],
   "source": [
    "df.loc[df.duplicated() == True]"
   ],
   "metadata": {
    "collapsed": false,
    "ExecuteTime": {
     "end_time": "2024-06-08T08:14:18.001794300Z",
     "start_time": "2024-06-08T08:14:17.965438500Z"
    }
   },
   "id": "2a5d50e221f3d888",
   "execution_count": 12
  },
  {
   "cell_type": "markdown",
   "source": [
    "### 3. Preprocessing of transforming data and its recognition:\n",
    "\n",
    "1. **Initialization**: \n",
    "\n",
    "\n",
    "   label_encoder = LabelEncoder()\n",
    "   - Initializes a `LabelEncoder` object, which is a utility class for converting categorical labels into numerical values. It assigns a unique integer to each category in the data.\n",
    "\n",
    "2. **Defining Categorical Columns**: \n",
    "\n",
    "\n",
    "   categorical_columns = ['Income', 'workclass', 'education', 'marital.status', 'occupation', 'relationship', 'race', 'sex', 'native.country']\n",
    "   - Defines a list of column names in the DataFrame `df` that contain categorical data.\n",
    "\n",
    "3. **Encoding Categorical Data**: \n",
    "\n",
    "\n",
    "   df[categoricalcolumns] = df[categoricalcolumns].apply(labelencoder.fittransform)\n",
    "   - Applies the `fit_transform` method of the `LabelEncoder` object to each column specified in `categorical_columns`.\n",
    "   - Fits the encoder to the unique categories in each column (`fit`), and then transforms the categorical labels into numerical values (`transform`).\n",
    "   - Assigns these transformed values back to the respective columns in the DataFrame `df`.\n",
    "\n",
    "Essentially, this code converts the categorical variables in the specified columns of the DataFrame into numerical representations, which can be used as input for machine learning models of XGBoost. This preprocessing step is necessary because many machine learning algorithms require numerical input data.\n",
    "\n",
    "This Markdown format provides a structured explanation of the code snippet, making it easier to understand each step and its purpose."
   ],
   "metadata": {
    "collapsed": false
   },
   "id": "db2afa676665a119"
  },
  {
   "cell_type": "code",
   "outputs": [],
   "source": [
    "label_encoder = LabelEncoder()\n",
    "categorical_columns = ['Income', 'workclass', 'education', 'marital.status', 'occupation', 'relationship', 'race', 'sex', 'native.country']\n",
    "df[categorical_columns] = df[categorical_columns].apply(label_encoder.fit_transform)"
   ],
   "metadata": {
    "collapsed": false,
    "ExecuteTime": {
     "end_time": "2024-06-08T08:14:18.095338500Z",
     "start_time": "2024-06-08T08:14:17.987803500Z"
    }
   },
   "id": "7801e1a6b109f3e0",
   "execution_count": 13
  },
  {
   "cell_type": "code",
   "outputs": [],
   "source": [
    "x_train, x_test, y_train, y_test = train_test_split(df.drop(columns=['Income']), df['Income'], test_size=0.12, random_state=38)\n",
    "\n",
    "scaler = StandardScaler()\n",
    "x_train = scaler.fit_transform(x_train)\n",
    "x_test = scaler.transform(x_test)\n"
   ],
   "metadata": {
    "collapsed": false,
    "ExecuteTime": {
     "end_time": "2024-06-08T08:14:18.129350Z",
     "start_time": "2024-06-08T08:14:18.018719400Z"
    }
   },
   "id": "af09abfca93d7fd1",
   "execution_count": 14
  },
  {
   "cell_type": "code",
   "outputs": [
    {
     "name": "stdout",
     "output_type": "stream",
     "text": [
      "---- ACCURACY_SCORE ---- \n",
      "\n",
      " 0.8779239766081871 \n",
      "\n",
      "---- CLASSIFICATION_REPORT ---- \n",
      "\n",
      "               precision    recall  f1-score   support\n",
      "\n",
      "           0       0.90      0.95      0.92      2088\n",
      "           1       0.79      0.66      0.72       648\n",
      "\n",
      "    accuracy                           0.88      2736\n",
      "   macro avg       0.84      0.80      0.82      2736\n",
      "weighted avg       0.87      0.88      0.87      2736\n"
     ]
    }
   ],
   "source": [
    "\n",
    "\n",
    "xgb = XGBClassifier()\n",
    "xgb.fit(x_train, y_train)\n",
    "y_pred = xgb.predict(x_test)\n",
    "print('---- ACCURACY_SCORE ---- \\n\\n', accuracy_score(y_test, y_pred), '\\n')\n",
    "print('---- CLASSIFICATION_REPORT ---- \\n\\n', classification_report(y_test, y_pred))"
   ],
   "metadata": {
    "collapsed": false,
    "ExecuteTime": {
     "end_time": "2024-06-08T08:14:18.359490100Z",
     "start_time": "2024-06-08T08:14:18.041339600Z"
    }
   },
   "id": "209fbbfa9d3ffad1",
   "execution_count": 15
  },
  {
   "cell_type": "markdown",
   "source": [
    "## Confusion Matrix\n",
    "The confusion matrix is a commonly used tool to evaluate the performance of a classification model, especially in multi-class classification problems. It illustrates the relationship between the model's predictions on the test set and the true labels.\n",
    "\n",
    "The primary purpose of the confusion matrix is to provide an intuitive understanding of the classification model's performance, particularly in terms of misclassifications between different classes. From the confusion matrix, we can comprehensively evaluate the model's performance."
   ],
   "metadata": {
    "collapsed": false
   },
   "id": "1388dca81410aaaa"
  },
  {
   "cell_type": "code",
   "outputs": [
    {
     "data": {
      "text/plain": "<Axes: >"
     },
     "execution_count": 16,
     "metadata": {},
     "output_type": "execute_result"
    },
    {
     "data": {
      "text/plain": "<Figure size 640x480 with 2 Axes>",
      "image/png": "[encoded data removed]"
     },
     "metadata": {},
     "output_type": "display_data"
    }
   ],
   "source": [
    "sns.heatmap(confusion_matrix(y_test, y_pred), annot=True, fmt='d')"
   ],
   "metadata": {
    "collapsed": false,
    "ExecuteTime": {
     "end_time": "2024-06-08T08:14:18.558524800Z",
     "start_time": "2024-06-08T08:14:18.363491100Z"
    }
   },
   "id": "83c06f6af3c5eb13",
   "execution_count": 16
  },
  {
   "cell_type": "markdown",
   "source": [
    "## Data Explanation\n",
    "\n",
    "1. The number 1974 in the top-left corner represents the count of true negatives (TN), indicating instances where the true class is negative, and the model correctly predicted them as negative.\n",
    "2. The number 114 in the top-right corner represents the count of false positives (FP), indicating instances where the true class is negative, but the model incorrectly predicted them as positive.\n",
    "3. The number 220 in the bottom-left corner represents the count of false negatives (FN), indicating instances where the true class is positive, but the model incorrectly predicted them as negative.\n",
    "4. The number 428 in the bottom-right corner represents the count of true positives (TP), indicating instances where the true class is positive, and the model correctly predicted them as positive."
   ],
   "metadata": {
    "collapsed": false
   },
   "id": "59a013be528f8ece"
  }
 ],
 "metadata": {
  "kernelspec": {
   "display_name": "Python 3",
   "language": "python",
   "name": "python3"
  },
  "language_info": {
   "codemirror_mode": {
    "name": "ipython",
    "version": 2
   },
   "file_extension": ".py",
   "mimetype": "text/x-python",
   "name": "python",
   "nbconvert_exporter": "python",
   "pygments_lexer": "ipython2",
   "version": "2.7.6"
  }
 },
 "nbformat": 4,
 "nbformat_minor": 5
}
